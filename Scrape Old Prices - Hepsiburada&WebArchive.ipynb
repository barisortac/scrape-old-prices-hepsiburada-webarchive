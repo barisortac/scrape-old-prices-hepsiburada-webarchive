{
 "cells": [
  {
   "cell_type": "code",
   "execution_count": 2,
   "metadata": {},
   "outputs": [],
   "source": [
    "#### Scraping historical prices of a product that on hepsiburada.com using Web-Archive API \n",
    "\n",
    "#necessary libraries\n",
    "\n",
    "import requests\n",
    "import re\n",
    "\n",
    "import bs4 as bs\n",
    "import urllib.request #In order to request\n",
    "\n",
    "import numpy as np\n",
    "import pandas as pd\n",
    "import matplotlib as plt"
   ]
  },
  {
   "cell_type": "code",
   "execution_count": 3,
   "metadata": {},
   "outputs": [],
   "source": [
    "#FIRST GET HISTORICAL LINKS OF PRODUCT USING WEB ARCHIVE API (CDX)\n",
    "def historical_prices_of_product(product_url):\n",
    "\n",
    "    # using web_archive cdx api\n",
    "    api_answer = requests.get(\"http://web.archive.org/cdx/search/cdx?url={}\".format(product_url))\n",
    "    # take all results that contains date\n",
    "    raw_api_answer_text = api_answer.text\n",
    "\n",
    "    #scrape dates to use in webarchive url\n",
    "    regex_to_find_dates = re.findall(r\"\\d{14}\",raw_api_answer_text)\n",
    "\n",
    "    product_links = []\n",
    "\n",
    "    for date in regex_to_find_dates:\n",
    "        # get web archive link structure\n",
    "        archive_link = \"https://web.archive.org/web/{}/{}\".format(date,product_url)\n",
    "        product_links.append(archive_link)\n",
    "    \n",
    "    return product_links,regex_to_find_dates\n",
    "\n",
    "\n",
    "# TAKING PRICE FROM HEPSIBURADA.COM using beautiful soup\n",
    "def hepsiburada_get_price(url):\n",
    "    sauce = urllib.request.urlopen(url).read() #Returns the source code of the given URL\n",
    "    soup = bs.BeautifulSoup(sauce,'lxml')  #To make beautifulsoup object,the parser used is lxml\n",
    "    try:\n",
    "        priceBeforePointArray = soup.find_all(\"span\",{\"data-bind\":\"markupText:'currentPriceBeforePoint'\"})\n",
    "        priceBeforePoint = priceBeforePointArray[0].text\n",
    "        priceAfterArray = soup.find_all(\"span\",{\"data-bind\":\"markupText:'currentPriceAfterPoint'\"})\n",
    "        priceAfterPoint= priceAfterArray[0].text\n",
    "    except:\n",
    "        return \"0\"\n",
    "    \n",
    "    return priceBeforePoint+\",\"+priceAfterPoint+\" TL\""
   ]
  },
  {
   "cell_type": "code",
   "execution_count": 4,
   "metadata": {},
   "outputs": [],
   "source": [
    "#product url ##enter product url (hepsiburada.com)\n",
    "product_url = \"https://www.hepsiburada.com/apple-iphone-5s-16-gb-apple-turkiye-garantili-pm-telcepiph5s6gbgo\"\n",
    "\n",
    "#product link and date using historical_prices_of_product function\n",
    "product_historical_links, dates= historical_prices_of_product(product_url)"
   ]
  },
  {
   "cell_type": "code",
   "execution_count": 5,
   "metadata": {},
   "outputs": [],
   "source": [
    "result_date_and_price = []\n",
    "\n",
    "#loop to get date and price of product using hepsiburada_get_price function\n",
    "for date_index,link in enumerate(product_historical_links):\n",
    "    result_date_and_price.append([dates[date_index],hepsiburada_get_price(link)])"
   ]
  },
  {
   "cell_type": "code",
   "execution_count": 6,
   "metadata": {},
   "outputs": [
    {
     "data": {
      "text/plain": [
       "[['20160427182143', '1.299,00 TL'],\n",
       " ['20160429083816', '1.299,00 TL'],\n",
       " ['20160503073758', '1.299,00 TL'],\n",
       " ['20160505023533', '1.299,00 TL'],\n",
       " ['20160517024221', '1.299,00 TL']]"
      ]
     },
     "execution_count": 6,
     "metadata": {},
     "output_type": "execute_result"
    }
   ],
   "source": [
    "#raw format of date and price\n",
    "result_date_and_price[:5]"
   ]
  },
  {
   "cell_type": "code",
   "execution_count": 21,
   "metadata": {},
   "outputs": [
    {
     "data": {
      "text/html": [
       "<div>\n",
       "<style scoped>\n",
       "    .dataframe tbody tr th:only-of-type {\n",
       "        vertical-align: middle;\n",
       "    }\n",
       "\n",
       "    .dataframe tbody tr th {\n",
       "        vertical-align: top;\n",
       "    }\n",
       "\n",
       "    .dataframe thead th {\n",
       "        text-align: right;\n",
       "    }\n",
       "</style>\n",
       "<table border=\"1\" class=\"dataframe\">\n",
       "  <thead>\n",
       "    <tr style=\"text-align: right;\">\n",
       "      <th></th>\n",
       "      <th>Date</th>\n",
       "      <th>Price</th>\n",
       "    </tr>\n",
       "  </thead>\n",
       "  <tbody>\n",
       "    <tr>\n",
       "      <th>0</th>\n",
       "      <td>2016-04-27</td>\n",
       "      <td>1299.0</td>\n",
       "    </tr>\n",
       "    <tr>\n",
       "      <th>1</th>\n",
       "      <td>2016-04-29</td>\n",
       "      <td>1299.0</td>\n",
       "    </tr>\n",
       "    <tr>\n",
       "      <th>2</th>\n",
       "      <td>2016-05-03</td>\n",
       "      <td>1299.0</td>\n",
       "    </tr>\n",
       "    <tr>\n",
       "      <th>3</th>\n",
       "      <td>2016-05-05</td>\n",
       "      <td>1299.0</td>\n",
       "    </tr>\n",
       "    <tr>\n",
       "      <th>4</th>\n",
       "      <td>2016-05-17</td>\n",
       "      <td>1299.0</td>\n",
       "    </tr>\n",
       "  </tbody>\n",
       "</table>\n",
       "</div>"
      ],
      "text/plain": [
       "        Date   Price\n",
       "0 2016-04-27  1299.0\n",
       "1 2016-04-29  1299.0\n",
       "2 2016-05-03  1299.0\n",
       "3 2016-05-05  1299.0\n",
       "4 2016-05-17  1299.0"
      ]
     },
     "execution_count": 21,
     "metadata": {},
     "output_type": "execute_result"
    }
   ],
   "source": [
    "#Convert result into beautiful DataFrame\n",
    "result_array = np.array(result_date_and_price)\n",
    "date = result_array[:,0]\n",
    "price = result_array[:,1]\n",
    "df = pd.DataFrame(data=[date,price])\n",
    "df = df.T\n",
    "df.columns = [\"Date\",\"Price\"]\n",
    "\n",
    "# Extract \"0\" prices values (when product no longer available - price is taken as \"0\")\n",
    "df.loc[df['Price'] == '0'] = np.nan \n",
    "df = df.dropna()\n",
    "\n",
    "\n",
    "# Date and Price columns are dirty, to clean and tidy them:\n",
    "df['Date'] = df['Date'].apply(lambda x: x[:8])\n",
    "df['Date'] = df['Date'].apply(lambda x: x[:4] + \"/\" + x[4:6] + \"/\" + x[6:8])\n",
    "df['Date'] = pd.to_datetime(df['Date'], format=\"%Y/%m/%d\")\n",
    "\n",
    "df['Price'] = df['Price'].apply(lambda x: x[:-3])\n",
    "df['Price'] = df['Price'].apply(lambda x: re.sub(\"\\.\",\"\",x))\n",
    "df['Price'] = df['Price'].apply(lambda x: re.sub(\"\\,\",\".\",x))\n",
    "df['Price'] = df['Price'].astype('float64')\n",
    "\n",
    "df.head()"
   ]
  },
  {
   "cell_type": "code",
   "execution_count": 25,
   "metadata": {},
   "outputs": [
    {
     "data": {
      "text/plain": [
       "<matplotlib.axes._subplots.AxesSubplot at 0x7effc9b94dd8>"
      ]
     },
     "execution_count": 25,
     "metadata": {},
     "output_type": "execute_result"
    },
    {
     "data": {
      "image/png": "[encoded data removed]",
      "text/plain": [
       "<Figure size 432x288 with 1 Axes>"
      ]
     },
     "metadata": {
      "needs_background": "light"
     },
     "output_type": "display_data"
    }
   ],
   "source": [
    "#127 historical prices of Iphone 5s is collected.\n",
    "\n",
    "df.plot('Date','Price',style='*',grid=True)"
   ]
  },
  {
   "cell_type": "code",
   "execution_count": null,
   "metadata": {},
   "outputs": [],
   "source": []
  }
 ],
 "metadata": {
  "kernelspec": {
   "display_name": "Python 3",
   "language": "python",
   "name": "python3"
  },
  "language_info": {
   "codemirror_mode": {
    "name": "ipython",
    "version": 3
   },
   "file_extension": ".py",
   "mimetype": "text/x-python",
   "name": "python",
   "nbconvert_exporter": "python",
   "pygments_lexer": "ipython3",
   "version": "3.6.7"
  }
 },
 "nbformat": 4,
 "nbformat_minor": 2
}
